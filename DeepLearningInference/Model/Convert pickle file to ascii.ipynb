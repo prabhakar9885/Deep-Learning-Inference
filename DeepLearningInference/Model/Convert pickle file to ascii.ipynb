{
 "cells": [
  {
   "cell_type": "code",
   "execution_count": 1,
   "metadata": {},
   "outputs": [
    {
     "name": "stdout",
     "output_type": "stream",
     "text": [
      "\u001b[1m\u001b[36mDatasets\u001b[m\u001b[m/       Shallow_DNN.py  Untitled.ipynb  weights\n"
     ]
    }
   ],
   "source": [
    "ls"
   ]
  },
  {
   "cell_type": "code",
   "execution_count": 39,
   "metadata": {},
   "outputs": [],
   "source": [
    "import numpy as np\n",
    "import pickle as p\n",
    "import sys"
   ]
  },
  {
   "cell_type": "code",
   "execution_count": 35,
   "metadata": {},
   "outputs": [],
   "source": [
    "layers_dims = [12288, 128, 128, 128, 128, 128, 64, 64, 32, 1] #  4-layer model"
   ]
  },
  {
   "cell_type": "code",
   "execution_count": 19,
   "metadata": {},
   "outputs": [],
   "source": [
    "wts = p.load(open(\"./weights\",\"rb\"))"
   ]
  },
  {
   "cell_type": "code",
   "execution_count": 4,
   "metadata": {},
   "outputs": [
    {
     "data": {
      "text/plain": [
       "dict_keys(['b2', 'b1', 'b6', 'W4', 'b7', 'W6', 'W9', 'b8', 'b9', 'W1', 'b3', 'W3', 'b5', 'W2', 'W8', 'W5', 'W7', 'b4'])"
      ]
     },
     "execution_count": 4,
     "metadata": {},
     "output_type": "execute_result"
    }
   ],
   "source": [
    "wts.keys()"
   ]
  },
  {
   "cell_type": "code",
   "execution_count": 5,
   "metadata": {},
   "outputs": [],
   "source": [
    "w1 = wts['W1']\n",
    "b1 = wts['b1']"
   ]
  },
  {
   "cell_type": "code",
   "execution_count": 8,
   "metadata": {},
   "outputs": [
    {
     "name": "stdout",
     "output_type": "stream",
     "text": [
      "w1: (128, 12288)\n",
      "b1: (128, 1)\n"
     ]
    }
   ],
   "source": [
    "print( \"w1: {}\".format(w1.shape) )\n",
    "print( \"b1: {}\".format(b1.shape) )"
   ]
  },
  {
   "cell_type": "markdown",
   "metadata": {},
   "source": [
    "# Convert pickle file to ascii"
   ]
  },
  {
   "cell_type": "markdown",
   "metadata": {},
   "source": [
    "### Dimension analysis"
   ]
  },
  {
   "cell_type": "code",
   "execution_count": 44,
   "metadata": {},
   "outputs": [
    {
     "name": "stdout",
     "output_type": "stream",
     "text": [
      "12288 x 128 : 1572864\n",
      "128 x 128 : 16384\n",
      "128 x 128 : 16384\n",
      "128 x 128 : 16384\n",
      "128 x 128 : 16384\n",
      "128 x 64 : 8192\n",
      "64 x 64 : 4096\n",
      "64 x 32 : 2048\n",
      "32 x 1 : 32\n"
     ]
    }
   ],
   "source": [
    "layers_dims = [12288, 128, 128, 128, 128, 128, 64, 64, 32, 1]\n",
    "\n",
    "i = 1\n",
    "n = len(layers_dims)\n",
    "prev = layers_dims[0]\n",
    "\n",
    "while( i<n ):\n",
    "    cur = layers_dims[i]\n",
    "    print( \"{} x {} : {}\".format(prev, cur, prev*cur) )\n",
    "    prev = cur\n",
    "    i += 1"
   ]
  },
  {
   "cell_type": "markdown",
   "metadata": {},
   "source": [
    "### Create the target file"
   ]
  },
  {
   "cell_type": "code",
   "execution_count": 42,
   "metadata": {},
   "outputs": [],
   "source": [
    "def create_simplified_file(wts_file, out_file):\n",
    "    print( \"Loading file...\")\n",
    "    wts = p.load(open(wts_file,\"rb\"))\n",
    "    print( \"Done\" )\n",
    "    wts_np = np.array([]);\n",
    "    keys = list(wts.keys())\n",
    "    f = open( out_file, \"w\" )\n",
    "    for indx in range( int(len(keys) / 2 ) ):\n",
    "        indx += 1\n",
    "        Wn = \"W\"+str(indx)\n",
    "        Bn = \"b\"+str(indx)\n",
    "        Wn_ = np.array(wts[Wn]).flatten()\n",
    "        Bn_ = np.array(wts[Bn]).flatten()\n",
    "        print( \"{}. {}\".format( Wn, Wn_.shape) )\n",
    "        print( \"{}. {}\".format( Bn, Bn_.shape) )\n",
    "        for w in Wn_:\n",
    "            f.write( \"{} \".format(w) )\n",
    "        f.write(\"\\n\")\n",
    "        for b in Bn_:\n",
    "            f.write( \"{} \".format(b) )\n",
    "        f.write(\"\\n\")\n",
    "        sys.stdout.flush()\n",
    "    f.close()"
   ]
  },
  {
   "cell_type": "code",
   "execution_count": 45,
   "metadata": {},
   "outputs": [
    {
     "name": "stdout",
     "output_type": "stream",
     "text": [
      "Loading file...\n",
      "Done\n",
      "W1. (1572864,)\n",
      "b1. (128,)\n",
      "W2. (16384,)\n",
      "b2. (128,)\n",
      "W3. (16384,)\n",
      "b3. (128,)\n",
      "W4. (16384,)\n",
      "b4. (128,)\n",
      "W5. (16384,)\n",
      "b5. (128,)\n",
      "W6. (8192,)\n",
      "b6. (64,)\n",
      "W7. (4096,)\n",
      "b7. (64,)\n",
      "W8. (2048,)\n",
      "b8. (32,)\n",
      "W9. (32,)\n",
      "b9. (1,)\n"
     ]
    }
   ],
   "source": [
    "create_simplified_file( wts_file= \"./weights\", out_file= \"weights.lst\" )"
   ]
  },
  {
   "cell_type": "markdown",
   "metadata": {},
   "source": [
    "## Summary\n",
    "<hr/>\n",
    "\n",
    "NN Archi => `[ 12288, 128, 128, 128, 128, 128, 64, 64, 32, 1 ]`\n",
    "> 12288 x 128 : 1572864 <br/>\n",
    "> 128 x 128 : 16384 <br/>\n",
    "> 128 x 128 : 16384 <br/>\n",
    "> 128 x 128 : 16384 <br/>\n",
    "> 128 x 128 : 16384 <br/>\n",
    "> 128 x 64 : 8192 <br/>\n",
    "> 64 x 64 : 4096 <br/>\n",
    "> 64 x 32 : 2048 <br/>\n",
    "> 32 x 1 : 32 <br/>\n",
    "<br/>\n",
    "<hr/>\n",
    "\n",
    "Each line of `weights.lst` has\n",
    "> W1. (1572864,) <br/>\n",
    "> b1. (128,) <br/>\n",
    "> W2. (16384,) <br/>\n",
    "> b2. (128,) <br/>\n",
    "> W3. (16384,) <br/>\n",
    "> b3. (128,) <br/>\n",
    "> W4. (16384,) <br/>\n",
    "> b4. (128,) <br/>\n",
    "> W5. (16384,) <br/>\n",
    "> b5. (128,) <br/>\n",
    "> W6. (8192,) <br/>\n",
    "> b6. (64,) <br/>\n",
    "> W7. (4096,) <br/>\n",
    "> b7. (64,) <br/>\n",
    "> W8. (2048,) <br/>\n",
    "> b8. (32,) <br/>\n",
    "> W9. (32,) <br/>\n",
    "> b9. (1,) <br/>"
   ]
  },
  {
   "cell_type": "code",
   "execution_count": null,
   "metadata": {},
   "outputs": [],
   "source": []
  }
 ],
 "metadata": {
  "kernelspec": {
   "display_name": "Python 3",
   "language": "python",
   "name": "python3"
  },
  "language_info": {
   "codemirror_mode": {
    "name": "ipython",
    "version": 3
   },
   "file_extension": ".py",
   "mimetype": "text/x-python",
   "name": "python",
   "nbconvert_exporter": "python",
   "pygments_lexer": "ipython3",
   "version": "3.5.6"
  }
 },
 "nbformat": 4,
 "nbformat_minor": 2
}
